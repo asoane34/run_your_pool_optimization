{
 "cells": [
  {
   "cell_type": "markdown",
   "id": "85f007df",
   "metadata": {},
   "source": [
    "# Run Your Pool - Seed Optimization\n",
    "\n",
    "The goal of this notebook is to determine the optimal seed combination to win a `points per win * seed` style pool. Off the cuff, I thought about just using the overall historical win percentage by round for each seed to calculate an expected value of wins by each seed, multiply that by the seed number, sum them all up and call it a day. But then it occurred to me that doesn't account for __when__ these teams play each other: we're picking 16 teams, so you're looking for the highest expected value for a combination of teams, not necessarily the highest combination of expected values (these might be equal with independent events, but these events are obviously not independent).\n",
    "\n",
    "The methodology is simple: I scraped all available seed vs. seed historical win percentages, and these will serve as our matchup win probabilities. We'll simulate each region N thousand times, recording the total points by seed for each iteration, and then we'll find which 4 seed combination has the highest expected total points.\n",
    "\n",
    "### Limitations and Assumptions\n",
    "\n",
    "1. __Win probabilities are only considered from the modern era of the tournament: 1985-present__. This means that the we only have 38 tournaments to use when generating historical win percentages. Because of this limited sample size, there are two problems that come up:\n",
    "\n",
    "    1. __Not every possible matchup has been played__: There are a number of matchup combinations that have never been played, and some of them will surprise you (for example, a 5 seed has never played a 7 seed). However, if we run are running tens of thousands of simulations, these matchups are going to eventually happen. In these cases, the surrogate win probability will be the average of all other matchup probabilities with the same seed differential. There is one case where no matchup has ever been played with a seed differential of 14 (a 15 has never played a 1, and a 16 has never played a 2), so an arbitrary 90% will be used in that case.\n",
    "    \n",
    "    2. __Infrequent matchups have unrealistic probabilities__: Because some matchups occur infrequently, the win probability is unlikely to be representative of the true distribution. For example: 7 seeds are 0-4 all time against 11 seeds, meaning that the win probability for a potential 7-11 matchup in this experiment would be 0% for a 7 seed to beat a 11 seed. This obviously ridiculous, but given that we're doing this exercise 2 days before the tournament starts I'm not sure I'll have time to come up with an alternative plan. The hope with this limitation and the one above is that since these matchups occur infrequently, sufficiently high sample size will still converge to the true expected value even with some fluky probabilities. \n",
    "    \n",
    "2. __Only simulating 1 region__: All head to head probabilities in this notebook are from within a single region for seeds 1-16. The assumption is that the optimal configuration of 16 teams is to pick 4 from each region, which allows for the possibility of two wins per team before they play each other. We also assume that there is one highest expected possible point combination, and thus you should always select the same seed combinations in each region. This also means that the Final Four / Championship are not being simulated, so they are not included in this analysis. \n",
    "\n",
    "\n",
    "If you can live with these limitations, then read on."
   ]
  },
  {
   "cell_type": "code",
   "execution_count": 1,
   "id": "4d0319e7",
   "metadata": {},
   "outputs": [
    {
     "data": {
      "application/javascript": [
       "\n",
       "            setTimeout(function() {\n",
       "                var nbb_cell_id = 1;\n",
       "                var nbb_unformatted_code = \"%load_ext nb_black\";\n",
       "                var nbb_formatted_code = \"%load_ext nb_black\";\n",
       "                var nbb_cells = Jupyter.notebook.get_cells();\n",
       "                for (var i = 0; i < nbb_cells.length; ++i) {\n",
       "                    if (nbb_cells[i].input_prompt_number == nbb_cell_id) {\n",
       "                        if (nbb_cells[i].get_text() == nbb_unformatted_code) {\n",
       "                             nbb_cells[i].set_text(nbb_formatted_code);\n",
       "                        }\n",
       "                        break;\n",
       "                    }\n",
       "                }\n",
       "            }, 500);\n",
       "            "
      ],
      "text/plain": [
       "<IPython.core.display.Javascript object>"
      ]
     },
     "metadata": {},
     "output_type": "display_data"
    }
   ],
   "source": [
    "%load_ext nb_black"
   ]
  },
  {
   "cell_type": "code",
   "execution_count": 3,
   "id": "e7117283",
   "metadata": {},
   "outputs": [
    {
     "data": {
      "application/javascript": [
       "\n",
       "            setTimeout(function() {\n",
       "                var nbb_cell_id = 3;\n",
       "                var nbb_unformatted_code = \"from itertools import combinations\\n\\nimport json\\nimport numpy as np\\nimport pandas as pd\\n\\nimport data_scraping_utils as dutils\\nimport optimization_utils as opt_utils\";\n",
       "                var nbb_formatted_code = \"from itertools import combinations\\n\\nimport json\\nimport numpy as np\\nimport pandas as pd\\n\\nimport data_scraping_utils as dutils\\nimport optimization_utils as opt_utils\";\n",
       "                var nbb_cells = Jupyter.notebook.get_cells();\n",
       "                for (var i = 0; i < nbb_cells.length; ++i) {\n",
       "                    if (nbb_cells[i].input_prompt_number == nbb_cell_id) {\n",
       "                        if (nbb_cells[i].get_text() == nbb_unformatted_code) {\n",
       "                             nbb_cells[i].set_text(nbb_formatted_code);\n",
       "                        }\n",
       "                        break;\n",
       "                    }\n",
       "                }\n",
       "            }, 500);\n",
       "            "
      ],
      "text/plain": [
       "<IPython.core.display.Javascript object>"
      ]
     },
     "metadata": {},
     "output_type": "display_data"
    }
   ],
   "source": [
    "from itertools import combinations\n",
    "\n",
    "import json\n",
    "import numpy as np\n",
    "import pandas as pd\n",
    "\n",
    "import data_scraping_utils as dutils\n",
    "import optimization_utils as opt_utils"
   ]
  },
  {
   "cell_type": "markdown",
   "id": "b0ba270e",
   "metadata": {},
   "source": [
    "### Start by scraping head-to-head matchup historical win percentage from wikipedia: https://en.wikipedia.org/wiki/NCAA_Division_I_men%27s_basketball_tournament#Seed_pairing_results"
   ]
  },
  {
   "cell_type": "code",
   "execution_count": 4,
   "id": "a495e120",
   "metadata": {},
   "outputs": [
    {
     "data": {
      "text/plain": [
       "{1: {16: 0.987,\n",
       "  8: 0.784,\n",
       "  9: 0.921,\n",
       "  4: 0.719,\n",
       "  5: 0.766,\n",
       "  12: 1.0,\n",
       "  13: 1.0,\n",
       "  2: 0.489,\n",
       "  3: 0.615,\n",
       "  6: 0.8,\n",
       "  7: 1.0,\n",
       "  10: 0.833,\n",
       "  11: 0.5,\n",
       "  14: -1.0,\n",
       "  15: -1.0},\n",
       " 2: {15: 0.928, 7: 0.69, 10: 0.648, 3: 0.625, 6: 0.793, 11: 0.833, 14: -1.0},\n",
       " 3: {14: 0.855, 6: 0.615, 11: 0.615},\n",
       " 4: {13: 0.789,\n",
       "  5: 0.557,\n",
       "  12: 0.683,\n",
       "  2: 0.571,\n",
       "  3: 0.6,\n",
       "  6: 0.667,\n",
       "  7: 0.4,\n",
       "  10: 1.0,\n",
       "  11: -1.0,\n",
       "  14: -1.0,\n",
       "  15: -1.0},\n",
       " 5: {12: 0.651,\n",
       "  2: 0.8,\n",
       "  3: 0.333,\n",
       "  6: 1.0,\n",
       "  7: -1.0,\n",
       "  10: 1.0,\n",
       "  11: -1.0,\n",
       "  14: -1.0,\n",
       "  15: -1.0},\n",
       " 6: {11: 0.618},\n",
       " 7: {10: 0.612, 3: 0.375, 6: 0.375, 11: 0.0, 14: 1.0},\n",
       " 8: {9: 0.487,\n",
       "  4: 0.545,\n",
       "  5: 1.0,\n",
       "  12: 0.0,\n",
       "  13: 1.0,\n",
       "  2: 0.6,\n",
       "  3: 0.0,\n",
       "  6: 1.0,\n",
       "  7: 1.0,\n",
       "  10: -1.0,\n",
       "  11: -1.0,\n",
       "  14: -1.0,\n",
       "  15: 1.0},\n",
       " 16: {8: -1.0,\n",
       "  9: 0.0,\n",
       "  4: -1.0,\n",
       "  5: -1.0,\n",
       "  12: -1.0,\n",
       "  13: -1.0,\n",
       "  2: -1.0,\n",
       "  3: -1.0,\n",
       "  6: -1.0,\n",
       "  7: -1.0,\n",
       "  10: -1.0,\n",
       "  11: -1.0,\n",
       "  14: -1.0,\n",
       "  15: -1.0},\n",
       " 15: {7: 0.667, 10: 0.0, 3: 0.333, 6: 0.0, 11: -1.0, 14: -1.0},\n",
       " 14: {6: 0.125, 11: 0.0},\n",
       " 13: {5: 0.15,\n",
       "  12: 0.25,\n",
       "  2: -1.0,\n",
       "  3: -1.0,\n",
       "  6: -1.0,\n",
       "  7: -1.0,\n",
       "  10: -1.0,\n",
       "  11: -1.0,\n",
       "  14: -1.0,\n",
       "  15: -1.0},\n",
       " 9: {4: 0.5,\n",
       "  5: 0.667,\n",
       "  12: -1.0,\n",
       "  13: 1.0,\n",
       "  2: 1.0,\n",
       "  3: 0.333,\n",
       "  6: -1.0,\n",
       "  7: -1.0,\n",
       "  10: -1.0,\n",
       "  11: 0.0,\n",
       "  14: -1.0,\n",
       "  15: -1.0},\n",
       " 10: {3: 0.308, 6: 0.333, 11: 0.5, 14: 1.0},\n",
       " 12: {2: 0.0,\n",
       "  3: -1.0,\n",
       "  6: -1.0,\n",
       "  7: -1.0,\n",
       "  10: -1.0,\n",
       "  11: -1.0,\n",
       "  14: -1.0,\n",
       "  15: -1.0}}"
      ]
     },
     "execution_count": 4,
     "metadata": {},
     "output_type": "execute_result"
    },
    {
     "data": {
      "application/javascript": [
       "\n",
       "            setTimeout(function() {\n",
       "                var nbb_cell_id = 4;\n",
       "                var nbb_unformatted_code = \"win_probability_dictionary = dutils.scrape_winning_percentage_dict_from_wikipedia()\\n# display dictionary\\nwin_probability_dictionary\";\n",
       "                var nbb_formatted_code = \"win_probability_dictionary = dutils.scrape_winning_percentage_dict_from_wikipedia()\\n# display dictionary\\nwin_probability_dictionary\";\n",
       "                var nbb_cells = Jupyter.notebook.get_cells();\n",
       "                for (var i = 0; i < nbb_cells.length; ++i) {\n",
       "                    if (nbb_cells[i].input_prompt_number == nbb_cell_id) {\n",
       "                        if (nbb_cells[i].get_text() == nbb_unformatted_code) {\n",
       "                             nbb_cells[i].set_text(nbb_formatted_code);\n",
       "                        }\n",
       "                        break;\n",
       "                    }\n",
       "                }\n",
       "            }, 500);\n",
       "            "
      ],
      "text/plain": [
       "<IPython.core.display.Javascript object>"
      ]
     },
     "metadata": {},
     "output_type": "display_data"
    }
   ],
   "source": [
    "win_probability_dictionary = dutils.scrape_winning_percentage_dict_from_wikipedia()\n",
    "# display dictionary\n",
    "win_probability_dictionary"
   ]
  },
  {
   "cell_type": "markdown",
   "id": "a087e309",
   "metadata": {},
   "source": [
    "### Many of these matchups have never occurred - so we'll create a distribution of average win percentage by seed difference, and use this to generate surrogate probabilities"
   ]
  },
  {
   "cell_type": "code",
   "execution_count": 7,
   "id": "805a6089",
   "metadata": {},
   "outputs": [
    {
     "data": {
      "application/javascript": [
       "\n",
       "            setTimeout(function() {\n",
       "                var nbb_cell_id = 7;\n",
       "                var nbb_unformatted_code = \"win_probability_dictionary = dutils.add_surrogate_win_probabilities_for_matchups(\\n    win_probability_dictionary=win_probability_dictionary,\\n)\";\n",
       "                var nbb_formatted_code = \"win_probability_dictionary = dutils.add_surrogate_win_probabilities_for_matchups(\\n    win_probability_dictionary=win_probability_dictionary,\\n)\";\n",
       "                var nbb_cells = Jupyter.notebook.get_cells();\n",
       "                for (var i = 0; i < nbb_cells.length; ++i) {\n",
       "                    if (nbb_cells[i].input_prompt_number == nbb_cell_id) {\n",
       "                        if (nbb_cells[i].get_text() == nbb_unformatted_code) {\n",
       "                             nbb_cells[i].set_text(nbb_formatted_code);\n",
       "                        }\n",
       "                        break;\n",
       "                    }\n",
       "                }\n",
       "            }, 500);\n",
       "            "
      ],
      "text/plain": [
       "<IPython.core.display.Javascript object>"
      ]
     },
     "metadata": {},
     "output_type": "display_data"
    }
   ],
   "source": [
    "win_probability_dictionary = dutils.add_surrogate_win_probabilities_for_matchups(\n",
    "    win_probability_dictionary=win_probability_dictionary,\n",
    ")"
   ]
  },
  {
   "cell_type": "markdown",
   "id": "41daac95",
   "metadata": {},
   "source": [
    "##### Store dictionary so we don't have to scrape it again"
   ]
  },
  {
   "cell_type": "code",
   "execution_count": 9,
   "id": "31a73002",
   "metadata": {},
   "outputs": [
    {
     "data": {
      "application/javascript": [
       "\n",
       "            setTimeout(function() {\n",
       "                var nbb_cell_id = 9;\n",
       "                var nbb_unformatted_code = \"with open(\\\"head_to_head_win_probability_dictionary.json\\\", \\\"w\\\") as f:\\n    json.dump(win_probability_dictionary, f)\";\n",
       "                var nbb_formatted_code = \"with open(\\\"head_to_head_win_probability_dictionary.json\\\", \\\"w\\\") as f:\\n    json.dump(win_probability_dictionary, f)\";\n",
       "                var nbb_cells = Jupyter.notebook.get_cells();\n",
       "                for (var i = 0; i < nbb_cells.length; ++i) {\n",
       "                    if (nbb_cells[i].input_prompt_number == nbb_cell_id) {\n",
       "                        if (nbb_cells[i].get_text() == nbb_unformatted_code) {\n",
       "                             nbb_cells[i].set_text(nbb_formatted_code);\n",
       "                        }\n",
       "                        break;\n",
       "                    }\n",
       "                }\n",
       "            }, 500);\n",
       "            "
      ],
      "text/plain": [
       "<IPython.core.display.Javascript object>"
      ]
     },
     "metadata": {},
     "output_type": "display_data"
    }
   ],
   "source": [
    "with open(\"head_to_head_win_probability_dictionary.json\", \"w\") as f:\n",
    "    json.dump(win_probability_dictionary, f)"
   ]
  },
  {
   "cell_type": "markdown",
   "id": "23d57e98",
   "metadata": {},
   "source": [
    "### Simulate 10,000 tournaments using this win probability dictionary and look at highest average points by seed."
   ]
  },
  {
   "cell_type": "code",
   "execution_count": 10,
   "id": "e3b9cbcd",
   "metadata": {},
   "outputs": [
    {
     "data": {
      "application/javascript": [
       "\n",
       "            setTimeout(function() {\n",
       "                var nbb_cell_id = 10;\n",
       "                var nbb_unformatted_code = \"tourney_results = []\\nfor _ in range(10000):\\n    region = opt_utils.RegionBracket(\\n        seed_path_dictionary=opt_utils.SEED_PATH_DICTIONARY,\\n        win_probability_dictionary=win_probability_dictionary,\\n    )\\n    region.simulate_region_tournament()\\n    tourney_results.append(region.points_by_seed)\\ntourney_result_df = pd.DataFrame(tourney_results)\";\n",
       "                var nbb_formatted_code = \"tourney_results = []\\nfor _ in range(10000):\\n    region = opt_utils.RegionBracket(\\n        seed_path_dictionary=opt_utils.SEED_PATH_DICTIONARY,\\n        win_probability_dictionary=win_probability_dictionary,\\n    )\\n    region.simulate_region_tournament()\\n    tourney_results.append(region.points_by_seed)\\ntourney_result_df = pd.DataFrame(tourney_results)\";\n",
       "                var nbb_cells = Jupyter.notebook.get_cells();\n",
       "                for (var i = 0; i < nbb_cells.length; ++i) {\n",
       "                    if (nbb_cells[i].input_prompt_number == nbb_cell_id) {\n",
       "                        if (nbb_cells[i].get_text() == nbb_unformatted_code) {\n",
       "                             nbb_cells[i].set_text(nbb_formatted_code);\n",
       "                        }\n",
       "                        break;\n",
       "                    }\n",
       "                }\n",
       "            }, 500);\n",
       "            "
      ],
      "text/plain": [
       "<IPython.core.display.Javascript object>"
      ]
     },
     "metadata": {},
     "output_type": "display_data"
    }
   ],
   "source": [
    "tourney_results = []\n",
    "for _ in range(10000):\n",
    "    region = opt_utils.RegionBracket(\n",
    "        seed_path_dictionary=opt_utils.SEED_PATH_DICTIONARY,\n",
    "        win_probability_dictionary=win_probability_dictionary,\n",
    "    )\n",
    "    region.simulate_region_tournament()\n",
    "    tourney_results.append(region.points_by_seed)\n",
    "tourney_result_df = pd.DataFrame(tourney_results)"
   ]
  },
  {
   "cell_type": "code",
   "execution_count": 11,
   "id": "5248fd46",
   "metadata": {},
   "outputs": [
    {
     "data": {
      "application/javascript": [
       "\n",
       "            setTimeout(function() {\n",
       "                var nbb_cell_id = 11;\n",
       "                var nbb_unformatted_code = \"average_points_added_by_seed = tourney_result_df.mean().sort_values(ascending=False)\";\n",
       "                var nbb_formatted_code = \"average_points_added_by_seed = tourney_result_df.mean().sort_values(ascending=False)\";\n",
       "                var nbb_cells = Jupyter.notebook.get_cells();\n",
       "                for (var i = 0; i < nbb_cells.length; ++i) {\n",
       "                    if (nbb_cells[i].input_prompt_number == nbb_cell_id) {\n",
       "                        if (nbb_cells[i].get_text() == nbb_unformatted_code) {\n",
       "                             nbb_cells[i].set_text(nbb_formatted_code);\n",
       "                        }\n",
       "                        break;\n",
       "                    }\n",
       "                }\n",
       "            }, 500);\n",
       "            "
      ],
      "text/plain": [
       "<IPython.core.display.Javascript object>"
      ]
     },
     "metadata": {},
     "output_type": "display_data"
    }
   ],
   "source": [
    "average_points_added_by_seed = tourney_result_df.mean().sort_values(ascending=False)"
   ]
  },
  {
   "cell_type": "code",
   "execution_count": 12,
   "id": "1a6b5cbc",
   "metadata": {},
   "outputs": [
    {
     "data": {
      "text/plain": [
       "11    7.3689\n",
       "12    6.2436\n",
       "6     6.2022\n",
       "7     6.1768\n",
       "4     6.0376\n",
       "10    5.9840\n",
       "8     5.6168\n",
       "5     5.5415\n",
       "9     5.3649\n",
       "3     5.2176\n",
       "2     4.4026\n",
       "13    3.1915\n",
       "1     2.9055\n",
       "14    2.2666\n",
       "15    1.6635\n",
       "16    0.2416\n",
       "dtype: float64"
      ]
     },
     "execution_count": 12,
     "metadata": {},
     "output_type": "execute_result"
    },
    {
     "data": {
      "application/javascript": [
       "\n",
       "            setTimeout(function() {\n",
       "                var nbb_cell_id = 12;\n",
       "                var nbb_unformatted_code = \"average_points_added_by_seed\";\n",
       "                var nbb_formatted_code = \"average_points_added_by_seed\";\n",
       "                var nbb_cells = Jupyter.notebook.get_cells();\n",
       "                for (var i = 0; i < nbb_cells.length; ++i) {\n",
       "                    if (nbb_cells[i].input_prompt_number == nbb_cell_id) {\n",
       "                        if (nbb_cells[i].get_text() == nbb_unformatted_code) {\n",
       "                             nbb_cells[i].set_text(nbb_formatted_code);\n",
       "                        }\n",
       "                        break;\n",
       "                    }\n",
       "                }\n",
       "            }, 500);\n",
       "            "
      ],
      "text/plain": [
       "<IPython.core.display.Javascript object>"
      ]
     },
     "metadata": {},
     "output_type": "display_data"
    }
   ],
   "source": [
    "average_points_added_by_seed"
   ]
  },
  {
   "cell_type": "markdown",
   "id": "ba9781d2",
   "metadata": {},
   "source": [
    "#### Key Takeaways\n",
    "1. The 11 seeds are the highest expected added value by large margin, the only clear takeaway from this result is that all four 11 seeds in the tournament should be selected. \n",
    "2. Two of the top 3 expected point values is the `6/11` matchup. If you simply select the top 4 expected values from this result, you're guaranteeing that one of your teams is out after the first round. Thus, the top 4 may have the highest expected values, but there may be a more optimal configuration than simply selecting the top 4."
   ]
  },
  {
   "cell_type": "markdown",
   "id": "47cbc92c",
   "metadata": {},
   "source": [
    "### What is the optimal combo?\n",
    "\n",
    "Because the search space is discrete (and small) there's no need for a bayesian optimization search, we can just grid search this. "
   ]
  },
  {
   "cell_type": "code",
   "execution_count": 13,
   "id": "33166131",
   "metadata": {},
   "outputs": [
    {
     "data": {
      "application/javascript": [
       "\n",
       "            setTimeout(function() {\n",
       "                var nbb_cell_id = 13;\n",
       "                var nbb_unformatted_code = \"all_combinations = list(combinations(list(np.arange(1, 17)), 4))\";\n",
       "                var nbb_formatted_code = \"all_combinations = list(combinations(list(np.arange(1, 17)), 4))\";\n",
       "                var nbb_cells = Jupyter.notebook.get_cells();\n",
       "                for (var i = 0; i < nbb_cells.length; ++i) {\n",
       "                    if (nbb_cells[i].input_prompt_number == nbb_cell_id) {\n",
       "                        if (nbb_cells[i].get_text() == nbb_unformatted_code) {\n",
       "                             nbb_cells[i].set_text(nbb_formatted_code);\n",
       "                        }\n",
       "                        break;\n",
       "                    }\n",
       "                }\n",
       "            }, 500);\n",
       "            "
      ],
      "text/plain": [
       "<IPython.core.display.Javascript object>"
      ]
     },
     "metadata": {},
     "output_type": "display_data"
    }
   ],
   "source": [
    "all_combinations = list(combinations(list(np.arange(1, 17)), 4))"
   ]
  },
  {
   "cell_type": "code",
   "execution_count": 14,
   "id": "f9b00885",
   "metadata": {},
   "outputs": [
    {
     "name": "stdout",
     "output_type": "stream",
     "text": [
      "Completed 0 iterations\n",
      "----------------------------------------------------------------------------------------------------\n",
      "Completed 100 iterations\n",
      "----------------------------------------------------------------------------------------------------\n",
      "Completed 200 iterations\n",
      "----------------------------------------------------------------------------------------------------\n",
      "Completed 300 iterations\n",
      "----------------------------------------------------------------------------------------------------\n",
      "Completed 400 iterations\n",
      "----------------------------------------------------------------------------------------------------\n",
      "Completed 500 iterations\n",
      "----------------------------------------------------------------------------------------------------\n",
      "Completed 600 iterations\n",
      "----------------------------------------------------------------------------------------------------\n",
      "Completed 700 iterations\n",
      "----------------------------------------------------------------------------------------------------\n",
      "Completed 800 iterations\n",
      "----------------------------------------------------------------------------------------------------\n",
      "Completed 900 iterations\n",
      "----------------------------------------------------------------------------------------------------\n",
      "Completed 1000 iterations\n",
      "----------------------------------------------------------------------------------------------------\n",
      "Completed 1100 iterations\n",
      "----------------------------------------------------------------------------------------------------\n",
      "Completed 1200 iterations\n",
      "----------------------------------------------------------------------------------------------------\n",
      "Completed 1300 iterations\n",
      "----------------------------------------------------------------------------------------------------\n",
      "Completed 1400 iterations\n",
      "----------------------------------------------------------------------------------------------------\n",
      "Completed 1500 iterations\n",
      "----------------------------------------------------------------------------------------------------\n",
      "Completed 1600 iterations\n",
      "----------------------------------------------------------------------------------------------------\n",
      "Completed 1700 iterations\n",
      "----------------------------------------------------------------------------------------------------\n",
      "Completed 1800 iterations\n",
      "----------------------------------------------------------------------------------------------------\n"
     ]
    },
    {
     "data": {
      "application/javascript": [
       "\n",
       "            setTimeout(function() {\n",
       "                var nbb_cell_id = 14;\n",
       "                var nbb_unformatted_code = \"all_results = {}\\nfor n, seed_list in enumerate(all_combinations):\\n    res = opt_utils.calculate_total_points_for_seed_combination(\\n        seed_list,\\n        win_probability_dictionary,\\n        10000,\\n    )\\n    all_results[seed_list] = res\\n    if n % 100 == 0:\\n        print(f\\\"Completed {n} iterations\\\")\\n        print(\\\"-\\\" * 100)\";\n",
       "                var nbb_formatted_code = \"all_results = {}\\nfor n, seed_list in enumerate(all_combinations):\\n    res = opt_utils.calculate_total_points_for_seed_combination(\\n        seed_list,\\n        win_probability_dictionary,\\n        10000,\\n    )\\n    all_results[seed_list] = res\\n    if n % 100 == 0:\\n        print(f\\\"Completed {n} iterations\\\")\\n        print(\\\"-\\\" * 100)\";\n",
       "                var nbb_cells = Jupyter.notebook.get_cells();\n",
       "                for (var i = 0; i < nbb_cells.length; ++i) {\n",
       "                    if (nbb_cells[i].input_prompt_number == nbb_cell_id) {\n",
       "                        if (nbb_cells[i].get_text() == nbb_unformatted_code) {\n",
       "                             nbb_cells[i].set_text(nbb_formatted_code);\n",
       "                        }\n",
       "                        break;\n",
       "                    }\n",
       "                }\n",
       "            }, 500);\n",
       "            "
      ],
      "text/plain": [
       "<IPython.core.display.Javascript object>"
      ]
     },
     "metadata": {},
     "output_type": "display_data"
    }
   ],
   "source": [
    "all_results = {}\n",
    "for n, seed_list in enumerate(all_combinations):\n",
    "    res = opt_utils.calculate_total_points_for_seed_combination(\n",
    "        seed_list,\n",
    "        win_probability_dictionary,\n",
    "        10000,\n",
    "    )\n",
    "    all_results[seed_list] = res\n",
    "    if n % 100 == 0:\n",
    "        print(f\"Completed {n} iterations\")\n",
    "        print(\"-\" * 100)"
   ]
  },
  {
   "cell_type": "code",
   "execution_count": 15,
   "id": "e20ad407",
   "metadata": {},
   "outputs": [
    {
     "data": {
      "application/javascript": [
       "\n",
       "            setTimeout(function() {\n",
       "                var nbb_cell_id = 15;\n",
       "                var nbb_unformatted_code = \"output_dataframe = pd.DataFrame.from_dict(\\n    all_results, orient=\\\"index\\\", columns=[\\\"expected_point_value\\\"]\\n)\";\n",
       "                var nbb_formatted_code = \"output_dataframe = pd.DataFrame.from_dict(\\n    all_results, orient=\\\"index\\\", columns=[\\\"expected_point_value\\\"]\\n)\";\n",
       "                var nbb_cells = Jupyter.notebook.get_cells();\n",
       "                for (var i = 0; i < nbb_cells.length; ++i) {\n",
       "                    if (nbb_cells[i].input_prompt_number == nbb_cell_id) {\n",
       "                        if (nbb_cells[i].get_text() == nbb_unformatted_code) {\n",
       "                             nbb_cells[i].set_text(nbb_formatted_code);\n",
       "                        }\n",
       "                        break;\n",
       "                    }\n",
       "                }\n",
       "            }, 500);\n",
       "            "
      ],
      "text/plain": [
       "<IPython.core.display.Javascript object>"
      ]
     },
     "metadata": {},
     "output_type": "display_data"
    }
   ],
   "source": [
    "output_dataframe = pd.DataFrame.from_dict(\n",
    "    all_results, orient=\"index\", columns=[\"expected_point_value\"]\n",
    ")"
   ]
  },
  {
   "cell_type": "code",
   "execution_count": 16,
   "id": "7c8a8eed",
   "metadata": {},
   "outputs": [
    {
     "data": {
      "text/plain": [
       "(6, 7, 10, 11)"
      ]
     },
     "execution_count": 16,
     "metadata": {},
     "output_type": "execute_result"
    },
    {
     "data": {
      "application/javascript": [
       "\n",
       "            setTimeout(function() {\n",
       "                var nbb_cell_id = 16;\n",
       "                var nbb_unformatted_code = \"output_dataframe[\\\"expected_point_value\\\"].idxmax()\";\n",
       "                var nbb_formatted_code = \"output_dataframe[\\\"expected_point_value\\\"].idxmax()\";\n",
       "                var nbb_cells = Jupyter.notebook.get_cells();\n",
       "                for (var i = 0; i < nbb_cells.length; ++i) {\n",
       "                    if (nbb_cells[i].input_prompt_number == nbb_cell_id) {\n",
       "                        if (nbb_cells[i].get_text() == nbb_unformatted_code) {\n",
       "                             nbb_cells[i].set_text(nbb_formatted_code);\n",
       "                        }\n",
       "                        break;\n",
       "                    }\n",
       "                }\n",
       "            }, 500);\n",
       "            "
      ],
      "text/plain": [
       "<IPython.core.display.Javascript object>"
      ]
     },
     "metadata": {},
     "output_type": "display_data"
    }
   ],
   "source": [
    "output_dataframe[\"expected_point_value\"].idxmax()"
   ]
  },
  {
   "cell_type": "code",
   "execution_count": 17,
   "id": "b104bd84",
   "metadata": {},
   "outputs": [
    {
     "data": {
      "text/html": [
       "<div>\n",
       "<style scoped>\n",
       "    .dataframe tbody tr th:only-of-type {\n",
       "        vertical-align: middle;\n",
       "    }\n",
       "\n",
       "    .dataframe tbody tr th {\n",
       "        vertical-align: top;\n",
       "    }\n",
       "\n",
       "    .dataframe thead th {\n",
       "        text-align: right;\n",
       "    }\n",
       "</style>\n",
       "<table border=\"1\" class=\"dataframe\">\n",
       "  <thead>\n",
       "    <tr style=\"text-align: right;\">\n",
       "      <th></th>\n",
       "      <th>expected_point_value</th>\n",
       "    </tr>\n",
       "  </thead>\n",
       "  <tbody>\n",
       "    <tr>\n",
       "      <th>(6, 7, 10, 11)</th>\n",
       "      <td>25.8184</td>\n",
       "    </tr>\n",
       "    <tr>\n",
       "      <th>(6, 10, 11, 12)</th>\n",
       "      <td>25.8056</td>\n",
       "    </tr>\n",
       "    <tr>\n",
       "      <th>(6, 7, 11, 12)</th>\n",
       "      <td>25.7478</td>\n",
       "    </tr>\n",
       "    <tr>\n",
       "      <th>(4, 10, 11, 12)</th>\n",
       "      <td>25.7398</td>\n",
       "    </tr>\n",
       "    <tr>\n",
       "      <th>(4, 6, 11, 12)</th>\n",
       "      <td>25.7048</td>\n",
       "    </tr>\n",
       "    <tr>\n",
       "      <th>(4, 6, 10, 11)</th>\n",
       "      <td>25.6783</td>\n",
       "    </tr>\n",
       "    <tr>\n",
       "      <th>(4, 7, 11, 12)</th>\n",
       "      <td>25.6409</td>\n",
       "    </tr>\n",
       "    <tr>\n",
       "      <th>(4, 6, 7, 11)</th>\n",
       "      <td>25.6378</td>\n",
       "    </tr>\n",
       "    <tr>\n",
       "      <th>(7, 10, 11, 12)</th>\n",
       "      <td>25.5731</td>\n",
       "    </tr>\n",
       "    <tr>\n",
       "      <th>(4, 7, 10, 11)</th>\n",
       "      <td>25.5156</td>\n",
       "    </tr>\n",
       "    <tr>\n",
       "      <th>(5, 6, 7, 11)</th>\n",
       "      <td>25.3853</td>\n",
       "    </tr>\n",
       "    <tr>\n",
       "      <th>(6, 8, 11, 12)</th>\n",
       "      <td>25.3323</td>\n",
       "    </tr>\n",
       "    <tr>\n",
       "      <th>(4, 8, 10, 11)</th>\n",
       "      <td>25.3069</td>\n",
       "    </tr>\n",
       "    <tr>\n",
       "      <th>(9, 10, 11, 12)</th>\n",
       "      <td>25.2809</td>\n",
       "    </tr>\n",
       "    <tr>\n",
       "      <th>(5, 7, 11, 12)</th>\n",
       "      <td>25.2635</td>\n",
       "    </tr>\n",
       "    <tr>\n",
       "      <th>(4, 5, 6, 11)</th>\n",
       "      <td>25.2586</td>\n",
       "    </tr>\n",
       "    <tr>\n",
       "      <th>(5, 6, 10, 11)</th>\n",
       "      <td>25.2546</td>\n",
       "    </tr>\n",
       "    <tr>\n",
       "      <th>(4, 5, 7, 11)</th>\n",
       "      <td>25.2162</td>\n",
       "    </tr>\n",
       "    <tr>\n",
       "      <th>(4, 9, 11, 12)</th>\n",
       "      <td>25.2153</td>\n",
       "    </tr>\n",
       "    <tr>\n",
       "      <th>(7, 8, 11, 12)</th>\n",
       "      <td>25.2129</td>\n",
       "    </tr>\n",
       "  </tbody>\n",
       "</table>\n",
       "</div>"
      ],
      "text/plain": [
       "                 expected_point_value\n",
       "(6, 7, 10, 11)                25.8184\n",
       "(6, 10, 11, 12)               25.8056\n",
       "(6, 7, 11, 12)                25.7478\n",
       "(4, 10, 11, 12)               25.7398\n",
       "(4, 6, 11, 12)                25.7048\n",
       "(4, 6, 10, 11)                25.6783\n",
       "(4, 7, 11, 12)                25.6409\n",
       "(4, 6, 7, 11)                 25.6378\n",
       "(7, 10, 11, 12)               25.5731\n",
       "(4, 7, 10, 11)                25.5156\n",
       "(5, 6, 7, 11)                 25.3853\n",
       "(6, 8, 11, 12)                25.3323\n",
       "(4, 8, 10, 11)                25.3069\n",
       "(9, 10, 11, 12)               25.2809\n",
       "(5, 7, 11, 12)                25.2635\n",
       "(4, 5, 6, 11)                 25.2586\n",
       "(5, 6, 10, 11)                25.2546\n",
       "(4, 5, 7, 11)                 25.2162\n",
       "(4, 9, 11, 12)                25.2153\n",
       "(7, 8, 11, 12)                25.2129"
      ]
     },
     "execution_count": 17,
     "metadata": {},
     "output_type": "execute_result"
    },
    {
     "data": {
      "application/javascript": [
       "\n",
       "            setTimeout(function() {\n",
       "                var nbb_cell_id = 17;\n",
       "                var nbb_unformatted_code = \"output_dataframe.sort_values(by=[\\\"expected_point_value\\\"], ascending=False).iloc[:20]\";\n",
       "                var nbb_formatted_code = \"output_dataframe.sort_values(by=[\\\"expected_point_value\\\"], ascending=False).iloc[:20]\";\n",
       "                var nbb_cells = Jupyter.notebook.get_cells();\n",
       "                for (var i = 0; i < nbb_cells.length; ++i) {\n",
       "                    if (nbb_cells[i].input_prompt_number == nbb_cell_id) {\n",
       "                        if (nbb_cells[i].get_text() == nbb_unformatted_code) {\n",
       "                             nbb_cells[i].set_text(nbb_formatted_code);\n",
       "                        }\n",
       "                        break;\n",
       "                    }\n",
       "                }\n",
       "            }, 500);\n",
       "            "
      ],
      "text/plain": [
       "<IPython.core.display.Javascript object>"
      ]
     },
     "metadata": {},
     "output_type": "display_data"
    }
   ],
   "source": [
    "output_dataframe.sort_values(by=[\"expected_point_value\"], ascending=False).iloc[:20]"
   ]
  },
  {
   "cell_type": "code",
   "execution_count": null,
   "id": "3e409c1d",
   "metadata": {},
   "outputs": [],
   "source": []
  }
 ],
 "metadata": {
  "kernelspec": {
   "display_name": "invoice_env",
   "language": "python",
   "name": "invoice_env"
  },
  "language_info": {
   "codemirror_mode": {
    "name": "ipython",
    "version": 3
   },
   "file_extension": ".py",
   "mimetype": "text/x-python",
   "name": "python",
   "nbconvert_exporter": "python",
   "pygments_lexer": "ipython3",
   "version": "3.7.9"
  }
 },
 "nbformat": 4,
 "nbformat_minor": 5
}
